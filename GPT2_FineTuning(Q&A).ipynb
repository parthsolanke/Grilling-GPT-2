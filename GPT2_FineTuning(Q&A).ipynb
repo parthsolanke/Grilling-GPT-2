{
  "cells": [
    {
      "cell_type": "code",
      "execution_count": null,
      "metadata": {
        "colab": {
          "base_uri": "https://localhost:8080/"
        },
        "id": "JnS9qEV0guV3",
        "outputId": "61321991-afee-4011-dd60-c87ed6af24f5"
      },
      "outputs": [],
      "source": [
        "!pip install transformers"
      ]
    },
    {
      "cell_type": "code",
      "execution_count": null,
      "metadata": {
        "id": "36AJLTveb62Y"
      },
      "outputs": [],
      "source": [
        "DATA_DIR = r\"./data/dialogue.csv\""
      ]
    },
    {
      "cell_type": "code",
      "execution_count": null,
      "metadata": {
        "id": "3vsbMW9RWE4A"
      },
      "outputs": [],
      "source": [
        "import torch\n",
        "import tqdm\n",
        "import pandas as pd\n",
        "import numpy as np\n",
        "from torch.optim import Adam\n",
        "from transformers import AutoTokenizer\n",
        "from huggingface_hub import notebook_login\n",
        "from torch.utils.data import Dataset, DataLoader\n",
        "from transformers import Trainer, TrainingArguments\n",
        "from transformers import GPT2LMHeadModel, GPT2Tokenizer"
      ]
    },
    {
      "cell_type": "code",
      "execution_count": null,
      "metadata": {
        "colab": {
          "base_uri": "https://localhost:8080/"
        },
        "id": "tGkecwk1i3MG",
        "outputId": "a74ee47c-0e1c-409b-c705-9c810c69a387"
      },
      "outputs": [],
      "source": [
        "# setting up device for training and inference\n",
        "device = \"cuda\" if torch.cuda.is_available() else \"mps\" if torch.backends.mps.is_available() else \"cpu\"\n",
        "print('Using device:', device)\n",
        "if device == 'cuda':\n",
        "    print(torch.cuda.get_device_name(0))"
      ]
    },
    {
      "cell_type": "code",
      "execution_count": null,
      "metadata": {
        "colab": {
          "base_uri": "https://localhost:8080/",
          "height": 206
        },
        "id": "f_Pus9OaUDmZ",
        "outputId": "39aecafb-2b2d-412e-afb3-236f28380967"
      },
      "outputs": [],
      "source": [
        "# loading and manipulating data\n",
        "df = pd.read_csv(DATA_DIR)\n",
        "df = df.sample(frac=1).reset_index(drop=True)\n",
        "df.head()"
      ]
    },
    {
      "cell_type": "code",
      "execution_count": null,
      "metadata": {
        "id": "z7xon5KefYsK"
      },
      "outputs": [],
      "source": [
        "# preprocessing data\n",
        "class Preprocessor(Dataset):\n",
        "\n",
        "  def __init__(self, dataframe, tokenizer):\n",
        "    self.data = dataframe\n",
        "    self.lst = []\n",
        "\n",
        "    for i, j in zip(self.data[\"questions\"], self.data[\"answers\"]):\n",
        "      self.lst.append(\"<s> \"+i+\" <bot>: \"+j+\" <e>\")\n",
        "\n",
        "    #self.lst = self.lst[:40000]\n",
        "\n",
        "    self.tokenized_lst = tokenizer(self.lst, max_length=30, truncation=True, padding=\"max_length\", return_tensors=\"pt\")\n",
        "    self.input_ids = self.tokenized_lst['input_ids']\n",
        "    self.attention_mask = self.tokenized_lst['attention_mask']\n",
        "\n",
        "\n",
        "  def __len__(self):\n",
        "    return len(self.lst)\n",
        "\n",
        "  def __getitem__(self, idx):\n",
        "    return (self.input_ids[idx], self.attention_mask[idx])"
      ]
    },
    {
      "cell_type": "code",
      "execution_count": null,
      "metadata": {
        "id": "Z_btbBqnAIEt"
      },
      "outputs": [],
      "source": [
        "# loding and modifying tokenizer\n",
        "tokenizer = GPT2Tokenizer.from_pretrained(\"gpt2\")\n",
        "tokenizer.add_special_tokens({\"pad_token\": \"<pad>\", \"bos_token\": \"<s>\", \"eos_token\": \"<e>\"})\n",
        "tokenizer.add_tokens([\"<bot>:\"])\n",
        "\n",
        "# loading pretrained model\n",
        "pretrained_model = GPT2LMHeadModel.from_pretrained(\"gpt2\")\n",
        "pretrained_model.resize_token_embeddings(len(tokenizer))\n",
        "pretrained_model = pretrained_model.to(device)"
      ]
    },
    {
      "cell_type": "code",
      "execution_count": null,
      "metadata": {
        "colab": {
          "base_uri": "https://localhost:8080/"
        },
        "id": "UD8fQcfby6bj",
        "outputId": "f809309e-8e8d-4e9c-e627-593dc8c84661"
      },
      "outputs": [],
      "source": [
        "data = Preprocessor(dataframe=df, tokenizer=tokenizer)\n",
        "print(f\"dataset length: {len(data.lst)}\")\n",
        "data.lst[:50]"
      ]
    },
    {
      "cell_type": "code",
      "execution_count": null,
      "metadata": {
        "id": "3QabThgHfYJB"
      },
      "outputs": [],
      "source": [
        "# training configuration\n",
        "epochs = 100\n",
        "optimizer = Adam(pretrained_model.parameters(), lr=1e-3)\n",
        "train_data =  DataLoader(data, batch_size=64)"
      ]
    },
    {
      "cell_type": "code",
      "execution_count": null,
      "metadata": {
        "id": "ypS7uLc3GXRU"
      },
      "outputs": [],
      "source": [
        "# defining predection function\n",
        "def predict(query):\n",
        "  inp = \"<s> \"+query+\" <bot>: \"\n",
        "  inp = tokenizer(inp, return_tensors=\"pt\")\n",
        "  inp_ids = inp[\"input_ids\"].to(device)\n",
        "  att_masks = inp[\"attention_mask\"].to(device)\n",
        "  out = pretrained_model.generate(inp_ids, attention_mask=att_masks)\n",
        "  out = tokenizer.decode(out[0])\n",
        "  return out"
      ]
    },
    {
      "cell_type": "code",
      "execution_count": null,
      "metadata": {
        "colab": {
          "background_save": true,
          "base_uri": "https://localhost:8080/"
        },
        "id": "wL9wnyE9DJSc",
        "outputId": "bdf5d94f-3622-461e-e729-719b2cd36344"
      },
      "outputs": [],
      "source": [
        "# training loop\n",
        "for i in tqdm.tqdm(range(epochs)):\n",
        "  for inp_id, att_mask in train_data:\n",
        "    inp_id = inp_id.to(device)\n",
        "    att_mask = att_mask.to(device)\n",
        "    optimizer.zero_grad()\n",
        "    loss = pretrained_model(inp_id, attention_mask=att_mask, labels=inp_id).loss\n",
        "    loss.backward()\n",
        "    optimizer.step()\n",
        "  # saving model after each epoch\n",
        "  torch.save(pretrained_model.state_dict(), \"model_state.pt\")\n",
        "  print(predict(\"Hi, how are you today?\"))"
      ]
    },
    {
      "cell_type": "code",
      "execution_count": null,
      "metadata": {
        "colab": {
          "base_uri": "https://localhost:8080/",
          "height": 477
        },
        "id": "kLkIMikvJ9nv",
        "outputId": "5d52dd6d-a504-4fa2-eada-63ff41da33fe"
      },
      "outputs": [],
      "source": [
        "# prompting\n",
        "while True:\n",
        "  query = input()\n",
        "  print(predict(query))"
      ]
    },
    {
      "cell_type": "code",
      "execution_count": null,
      "metadata": {
        "colab": {
          "base_uri": "https://localhost:8080/",
          "height": 145,
          "referenced_widgets": [
            "95d2a18ae6cd463cadbc530d307d1aef",
            "9506b6a40a2448609d4ceda5ad3a8b39",
            "88981bb70b3a4e68bd320619818fed75",
            "217ed256007c4933884e5b51d0033af0",
            "e732502f05e34c3a95df483fdd3c7561",
            "d4f24bf2bc514af9b1565cb8569ef7ab",
            "93f5a69b666b40a5b18b552aff6c3fdb",
            "8d8b30da7366467f81edf321b98562b0",
            "1d5293daa0ac447e94c40b1a060f5fc1",
            "e8fc39b11e224d2ebbf1c81830f2a3cf",
            "c11c6358bc5143638154843dc76ae62f",
            "ffb4638bb29242d08a24c1018948561c",
            "d8bb71ac12bb485ca00d29deb46ce5c7",
            "298b56cb81864b5facc76a1588f270f8"
          ]
        },
        "id": "XsKi-fgUJuQW",
        "outputId": "13714086-b85b-4711-f7a6-d4c1f799aca4"
      },
      "outputs": [],
      "source": [
        "# pushing to hub\n",
        "notebook_login()"
      ]
    },
    {
      "cell_type": "code",
      "execution_count": null,
      "metadata": {
        "colab": {
          "base_uri": "https://localhost:8080/",
          "height": 85,
          "referenced_widgets": [
            "40b97a2d13a3467491a86e4fb4bd4978",
            "4190b39729b84a2e8fa0d0a8746effc1",
            "9a33abd814de4392b682a33e13a73e6b",
            "ea5d8f0d4dfb461b8c22877aaf654cc6",
            "f172871000dc422aa8a9431011eb624f",
            "15a6ed16383f408585617f7001563320",
            "a7a246e4be8349d7b12e3a2170488137",
            "2456ca3693fd46f5b14c151ea5eee172",
            "143355f4ddf24659bcbc8d94a9b318d0",
            "6067553c1f7c4fe09645126356d2d642",
            "1d43690ce4f040a6beaf9691f355e211"
          ]
        },
        "id": "ZKr8XWglKNSU",
        "outputId": "65acc986-bf95-4159-9a80-ac174e2a6552"
      },
      "outputs": [],
      "source": [
        "pretrained_model.push_to_hub(\"saul-gpt2-mk2\")\n",
        "tokenizer.push_to_hub(\"saul-gpt2-mk2\")"
      ]
    },
    {
      "cell_type": "code",
      "execution_count": null,
      "metadata": {
        "id": "4CW7E45GN0_1"
      },
      "outputs": [],
      "source": [
        "from transformers import AutoTokenizer, AutoModel\n",
        "model = AutoModel.from_pretrained(\"parthsolanke/saul-gpt2-mk2\")\n",
        "model = model.to(device)\n",
        "tokenizer = AutoTokenizer.from_pretrained(\"parthsolanke/saul-gpt2-mk2\")"
      ]
    }
  ],
  "metadata": {
    "accelerator": "GPU",
    "colab": {
      "provenance": []
    },
    "kernelspec": {
      "display_name": "Python 3",
      "name": "python3"
    },
    "language_info": {
      "name": "python"
    },
    "widgets": {
      "application/vnd.jupyter.widget-state+json": {
        "143355f4ddf24659bcbc8d94a9b318d0": {
          "model_module": "@jupyter-widgets/controls",
          "model_module_version": "1.5.0",
          "model_name": "ProgressStyleModel",
          "state": {
            "_model_module": "@jupyter-widgets/controls",
            "_model_module_version": "1.5.0",
            "_model_name": "ProgressStyleModel",
            "_view_count": null,
            "_view_module": "@jupyter-widgets/base",
            "_view_module_version": "1.2.0",
            "_view_name": "StyleView",
            "bar_color": null,
            "description_width": ""
          }
        },
        "15a6ed16383f408585617f7001563320": {
          "model_module": "@jupyter-widgets/base",
          "model_module_version": "1.2.0",
          "model_name": "LayoutModel",
          "state": {
            "_model_module": "@jupyter-widgets/base",
            "_model_module_version": "1.2.0",
            "_model_name": "LayoutModel",
            "_view_count": null,
            "_view_module": "@jupyter-widgets/base",
            "_view_module_version": "1.2.0",
            "_view_name": "LayoutView",
            "align_content": null,
            "align_items": null,
            "align_self": null,
            "border": null,
            "bottom": null,
            "display": null,
            "flex": null,
            "flex_flow": null,
            "grid_area": null,
            "grid_auto_columns": null,
            "grid_auto_flow": null,
            "grid_auto_rows": null,
            "grid_column": null,
            "grid_gap": null,
            "grid_row": null,
            "grid_template_areas": null,
            "grid_template_columns": null,
            "grid_template_rows": null,
            "height": null,
            "justify_content": null,
            "justify_items": null,
            "left": null,
            "margin": null,
            "max_height": null,
            "max_width": null,
            "min_height": null,
            "min_width": null,
            "object_fit": null,
            "object_position": null,
            "order": null,
            "overflow": null,
            "overflow_x": null,
            "overflow_y": null,
            "padding": null,
            "right": null,
            "top": null,
            "visibility": null,
            "width": null
          }
        },
        "1d43690ce4f040a6beaf9691f355e211": {
          "model_module": "@jupyter-widgets/controls",
          "model_module_version": "1.5.0",
          "model_name": "DescriptionStyleModel",
          "state": {
            "_model_module": "@jupyter-widgets/controls",
            "_model_module_version": "1.5.0",
            "_model_name": "DescriptionStyleModel",
            "_view_count": null,
            "_view_module": "@jupyter-widgets/base",
            "_view_module_version": "1.2.0",
            "_view_name": "StyleView",
            "description_width": ""
          }
        },
        "1d5293daa0ac447e94c40b1a060f5fc1": {
          "model_module": "@jupyter-widgets/base",
          "model_module_version": "1.2.0",
          "model_name": "LayoutModel",
          "state": {
            "_model_module": "@jupyter-widgets/base",
            "_model_module_version": "1.2.0",
            "_model_name": "LayoutModel",
            "_view_count": null,
            "_view_module": "@jupyter-widgets/base",
            "_view_module_version": "1.2.0",
            "_view_name": "LayoutView",
            "align_content": null,
            "align_items": null,
            "align_self": null,
            "border": null,
            "bottom": null,
            "display": null,
            "flex": null,
            "flex_flow": null,
            "grid_area": null,
            "grid_auto_columns": null,
            "grid_auto_flow": null,
            "grid_auto_rows": null,
            "grid_column": null,
            "grid_gap": null,
            "grid_row": null,
            "grid_template_areas": null,
            "grid_template_columns": null,
            "grid_template_rows": null,
            "height": null,
            "justify_content": null,
            "justify_items": null,
            "left": null,
            "margin": null,
            "max_height": null,
            "max_width": null,
            "min_height": null,
            "min_width": null,
            "object_fit": null,
            "object_position": null,
            "order": null,
            "overflow": null,
            "overflow_x": null,
            "overflow_y": null,
            "padding": null,
            "right": null,
            "top": null,
            "visibility": null,
            "width": null
          }
        },
        "217ed256007c4933884e5b51d0033af0": {
          "model_module": "@jupyter-widgets/controls",
          "model_module_version": "1.5.0",
          "model_name": "LabelModel",
          "state": {
            "_dom_classes": [],
            "_model_module": "@jupyter-widgets/controls",
            "_model_module_version": "1.5.0",
            "_model_name": "LabelModel",
            "_view_count": null,
            "_view_module": "@jupyter-widgets/controls",
            "_view_module_version": "1.5.0",
            "_view_name": "LabelView",
            "description": "",
            "description_tooltip": null,
            "layout": "IPY_MODEL_c11c6358bc5143638154843dc76ae62f",
            "placeholder": "​",
            "style": "IPY_MODEL_ffb4638bb29242d08a24c1018948561c",
            "value": "Your token has been saved to /root/.cache/huggingface/token"
          }
        },
        "2456ca3693fd46f5b14c151ea5eee172": {
          "model_module": "@jupyter-widgets/base",
          "model_module_version": "1.2.0",
          "model_name": "LayoutModel",
          "state": {
            "_model_module": "@jupyter-widgets/base",
            "_model_module_version": "1.2.0",
            "_model_name": "LayoutModel",
            "_view_count": null,
            "_view_module": "@jupyter-widgets/base",
            "_view_module_version": "1.2.0",
            "_view_name": "LayoutView",
            "align_content": null,
            "align_items": null,
            "align_self": null,
            "border": null,
            "bottom": null,
            "display": null,
            "flex": null,
            "flex_flow": null,
            "grid_area": null,
            "grid_auto_columns": null,
            "grid_auto_flow": null,
            "grid_auto_rows": null,
            "grid_column": null,
            "grid_gap": null,
            "grid_row": null,
            "grid_template_areas": null,
            "grid_template_columns": null,
            "grid_template_rows": null,
            "height": null,
            "justify_content": null,
            "justify_items": null,
            "left": null,
            "margin": null,
            "max_height": null,
            "max_width": null,
            "min_height": null,
            "min_width": null,
            "object_fit": null,
            "object_position": null,
            "order": null,
            "overflow": null,
            "overflow_x": null,
            "overflow_y": null,
            "padding": null,
            "right": null,
            "top": null,
            "visibility": null,
            "width": null
          }
        },
        "298b56cb81864b5facc76a1588f270f8": {
          "model_module": "@jupyter-widgets/controls",
          "model_module_version": "1.5.0",
          "model_name": "DescriptionStyleModel",
          "state": {
            "_model_module": "@jupyter-widgets/controls",
            "_model_module_version": "1.5.0",
            "_model_name": "DescriptionStyleModel",
            "_view_count": null,
            "_view_module": "@jupyter-widgets/base",
            "_view_module_version": "1.2.0",
            "_view_name": "StyleView",
            "description_width": ""
          }
        },
        "40b97a2d13a3467491a86e4fb4bd4978": {
          "model_module": "@jupyter-widgets/controls",
          "model_module_version": "1.5.0",
          "model_name": "HBoxModel",
          "state": {
            "_dom_classes": [],
            "_model_module": "@jupyter-widgets/controls",
            "_model_module_version": "1.5.0",
            "_model_name": "HBoxModel",
            "_view_count": null,
            "_view_module": "@jupyter-widgets/controls",
            "_view_module_version": "1.5.0",
            "_view_name": "HBoxView",
            "box_style": "",
            "children": [
              "IPY_MODEL_4190b39729b84a2e8fa0d0a8746effc1",
              "IPY_MODEL_9a33abd814de4392b682a33e13a73e6b",
              "IPY_MODEL_ea5d8f0d4dfb461b8c22877aaf654cc6"
            ],
            "layout": "IPY_MODEL_f172871000dc422aa8a9431011eb624f"
          }
        },
        "4190b39729b84a2e8fa0d0a8746effc1": {
          "model_module": "@jupyter-widgets/controls",
          "model_module_version": "1.5.0",
          "model_name": "HTMLModel",
          "state": {
            "_dom_classes": [],
            "_model_module": "@jupyter-widgets/controls",
            "_model_module_version": "1.5.0",
            "_model_name": "HTMLModel",
            "_view_count": null,
            "_view_module": "@jupyter-widgets/controls",
            "_view_module_version": "1.5.0",
            "_view_name": "HTMLView",
            "description": "",
            "description_tooltip": null,
            "layout": "IPY_MODEL_15a6ed16383f408585617f7001563320",
            "placeholder": "​",
            "style": "IPY_MODEL_a7a246e4be8349d7b12e3a2170488137",
            "value": "pytorch_model.bin: 100%"
          }
        },
        "6067553c1f7c4fe09645126356d2d642": {
          "model_module": "@jupyter-widgets/base",
          "model_module_version": "1.2.0",
          "model_name": "LayoutModel",
          "state": {
            "_model_module": "@jupyter-widgets/base",
            "_model_module_version": "1.2.0",
            "_model_name": "LayoutModel",
            "_view_count": null,
            "_view_module": "@jupyter-widgets/base",
            "_view_module_version": "1.2.0",
            "_view_name": "LayoutView",
            "align_content": null,
            "align_items": null,
            "align_self": null,
            "border": null,
            "bottom": null,
            "display": null,
            "flex": null,
            "flex_flow": null,
            "grid_area": null,
            "grid_auto_columns": null,
            "grid_auto_flow": null,
            "grid_auto_rows": null,
            "grid_column": null,
            "grid_gap": null,
            "grid_row": null,
            "grid_template_areas": null,
            "grid_template_columns": null,
            "grid_template_rows": null,
            "height": null,
            "justify_content": null,
            "justify_items": null,
            "left": null,
            "margin": null,
            "max_height": null,
            "max_width": null,
            "min_height": null,
            "min_width": null,
            "object_fit": null,
            "object_position": null,
            "order": null,
            "overflow": null,
            "overflow_x": null,
            "overflow_y": null,
            "padding": null,
            "right": null,
            "top": null,
            "visibility": null,
            "width": null
          }
        },
        "88981bb70b3a4e68bd320619818fed75": {
          "model_module": "@jupyter-widgets/controls",
          "model_module_version": "1.5.0",
          "model_name": "LabelModel",
          "state": {
            "_dom_classes": [],
            "_model_module": "@jupyter-widgets/controls",
            "_model_module_version": "1.5.0",
            "_model_name": "LabelModel",
            "_view_count": null,
            "_view_module": "@jupyter-widgets/controls",
            "_view_module_version": "1.5.0",
            "_view_name": "LabelView",
            "description": "",
            "description_tooltip": null,
            "layout": "IPY_MODEL_1d5293daa0ac447e94c40b1a060f5fc1",
            "placeholder": "​",
            "style": "IPY_MODEL_e8fc39b11e224d2ebbf1c81830f2a3cf",
            "value": "Your token has been saved in your configured git credential helpers (store)."
          }
        },
        "8d8b30da7366467f81edf321b98562b0": {
          "model_module": "@jupyter-widgets/controls",
          "model_module_version": "1.5.0",
          "model_name": "DescriptionStyleModel",
          "state": {
            "_model_module": "@jupyter-widgets/controls",
            "_model_module_version": "1.5.0",
            "_model_name": "DescriptionStyleModel",
            "_view_count": null,
            "_view_module": "@jupyter-widgets/base",
            "_view_module_version": "1.2.0",
            "_view_name": "StyleView",
            "description_width": ""
          }
        },
        "93f5a69b666b40a5b18b552aff6c3fdb": {
          "model_module": "@jupyter-widgets/base",
          "model_module_version": "1.2.0",
          "model_name": "LayoutModel",
          "state": {
            "_model_module": "@jupyter-widgets/base",
            "_model_module_version": "1.2.0",
            "_model_name": "LayoutModel",
            "_view_count": null,
            "_view_module": "@jupyter-widgets/base",
            "_view_module_version": "1.2.0",
            "_view_name": "LayoutView",
            "align_content": null,
            "align_items": null,
            "align_self": null,
            "border": null,
            "bottom": null,
            "display": null,
            "flex": null,
            "flex_flow": null,
            "grid_area": null,
            "grid_auto_columns": null,
            "grid_auto_flow": null,
            "grid_auto_rows": null,
            "grid_column": null,
            "grid_gap": null,
            "grid_row": null,
            "grid_template_areas": null,
            "grid_template_columns": null,
            "grid_template_rows": null,
            "height": null,
            "justify_content": null,
            "justify_items": null,
            "left": null,
            "margin": null,
            "max_height": null,
            "max_width": null,
            "min_height": null,
            "min_width": null,
            "object_fit": null,
            "object_position": null,
            "order": null,
            "overflow": null,
            "overflow_x": null,
            "overflow_y": null,
            "padding": null,
            "right": null,
            "top": null,
            "visibility": null,
            "width": null
          }
        },
        "9506b6a40a2448609d4ceda5ad3a8b39": {
          "model_module": "@jupyter-widgets/controls",
          "model_module_version": "1.5.0",
          "model_name": "LabelModel",
          "state": {
            "_dom_classes": [],
            "_model_module": "@jupyter-widgets/controls",
            "_model_module_version": "1.5.0",
            "_model_name": "LabelModel",
            "_view_count": null,
            "_view_module": "@jupyter-widgets/controls",
            "_view_module_version": "1.5.0",
            "_view_name": "LabelView",
            "description": "",
            "description_tooltip": null,
            "layout": "IPY_MODEL_93f5a69b666b40a5b18b552aff6c3fdb",
            "placeholder": "​",
            "style": "IPY_MODEL_8d8b30da7366467f81edf321b98562b0",
            "value": "Token is valid (permission: write)."
          }
        },
        "95d2a18ae6cd463cadbc530d307d1aef": {
          "model_module": "@jupyter-widgets/controls",
          "model_module_version": "1.5.0",
          "model_name": "VBoxModel",
          "state": {
            "_dom_classes": [],
            "_model_module": "@jupyter-widgets/controls",
            "_model_module_version": "1.5.0",
            "_model_name": "VBoxModel",
            "_view_count": null,
            "_view_module": "@jupyter-widgets/controls",
            "_view_module_version": "1.5.0",
            "_view_name": "VBoxView",
            "box_style": "",
            "children": [
              "IPY_MODEL_9506b6a40a2448609d4ceda5ad3a8b39",
              "IPY_MODEL_88981bb70b3a4e68bd320619818fed75",
              "IPY_MODEL_217ed256007c4933884e5b51d0033af0",
              "IPY_MODEL_e732502f05e34c3a95df483fdd3c7561"
            ],
            "layout": "IPY_MODEL_d4f24bf2bc514af9b1565cb8569ef7ab"
          }
        },
        "9a33abd814de4392b682a33e13a73e6b": {
          "model_module": "@jupyter-widgets/controls",
          "model_module_version": "1.5.0",
          "model_name": "FloatProgressModel",
          "state": {
            "_dom_classes": [],
            "_model_module": "@jupyter-widgets/controls",
            "_model_module_version": "1.5.0",
            "_model_name": "FloatProgressModel",
            "_view_count": null,
            "_view_module": "@jupyter-widgets/controls",
            "_view_module_version": "1.5.0",
            "_view_name": "ProgressView",
            "bar_style": "success",
            "description": "",
            "description_tooltip": null,
            "layout": "IPY_MODEL_2456ca3693fd46f5b14c151ea5eee172",
            "max": 497819485,
            "min": 0,
            "orientation": "horizontal",
            "style": "IPY_MODEL_143355f4ddf24659bcbc8d94a9b318d0",
            "value": 497819485
          }
        },
        "a7a246e4be8349d7b12e3a2170488137": {
          "model_module": "@jupyter-widgets/controls",
          "model_module_version": "1.5.0",
          "model_name": "DescriptionStyleModel",
          "state": {
            "_model_module": "@jupyter-widgets/controls",
            "_model_module_version": "1.5.0",
            "_model_name": "DescriptionStyleModel",
            "_view_count": null,
            "_view_module": "@jupyter-widgets/base",
            "_view_module_version": "1.2.0",
            "_view_name": "StyleView",
            "description_width": ""
          }
        },
        "c11c6358bc5143638154843dc76ae62f": {
          "model_module": "@jupyter-widgets/base",
          "model_module_version": "1.2.0",
          "model_name": "LayoutModel",
          "state": {
            "_model_module": "@jupyter-widgets/base",
            "_model_module_version": "1.2.0",
            "_model_name": "LayoutModel",
            "_view_count": null,
            "_view_module": "@jupyter-widgets/base",
            "_view_module_version": "1.2.0",
            "_view_name": "LayoutView",
            "align_content": null,
            "align_items": null,
            "align_self": null,
            "border": null,
            "bottom": null,
            "display": null,
            "flex": null,
            "flex_flow": null,
            "grid_area": null,
            "grid_auto_columns": null,
            "grid_auto_flow": null,
            "grid_auto_rows": null,
            "grid_column": null,
            "grid_gap": null,
            "grid_row": null,
            "grid_template_areas": null,
            "grid_template_columns": null,
            "grid_template_rows": null,
            "height": null,
            "justify_content": null,
            "justify_items": null,
            "left": null,
            "margin": null,
            "max_height": null,
            "max_width": null,
            "min_height": null,
            "min_width": null,
            "object_fit": null,
            "object_position": null,
            "order": null,
            "overflow": null,
            "overflow_x": null,
            "overflow_y": null,
            "padding": null,
            "right": null,
            "top": null,
            "visibility": null,
            "width": null
          }
        },
        "d4f24bf2bc514af9b1565cb8569ef7ab": {
          "model_module": "@jupyter-widgets/base",
          "model_module_version": "1.2.0",
          "model_name": "LayoutModel",
          "state": {
            "_model_module": "@jupyter-widgets/base",
            "_model_module_version": "1.2.0",
            "_model_name": "LayoutModel",
            "_view_count": null,
            "_view_module": "@jupyter-widgets/base",
            "_view_module_version": "1.2.0",
            "_view_name": "LayoutView",
            "align_content": null,
            "align_items": "center",
            "align_self": null,
            "border": null,
            "bottom": null,
            "display": "flex",
            "flex": null,
            "flex_flow": "column",
            "grid_area": null,
            "grid_auto_columns": null,
            "grid_auto_flow": null,
            "grid_auto_rows": null,
            "grid_column": null,
            "grid_gap": null,
            "grid_row": null,
            "grid_template_areas": null,
            "grid_template_columns": null,
            "grid_template_rows": null,
            "height": null,
            "justify_content": null,
            "justify_items": null,
            "left": null,
            "margin": null,
            "max_height": null,
            "max_width": null,
            "min_height": null,
            "min_width": null,
            "object_fit": null,
            "object_position": null,
            "order": null,
            "overflow": null,
            "overflow_x": null,
            "overflow_y": null,
            "padding": null,
            "right": null,
            "top": null,
            "visibility": null,
            "width": "50%"
          }
        },
        "d8bb71ac12bb485ca00d29deb46ce5c7": {
          "model_module": "@jupyter-widgets/base",
          "model_module_version": "1.2.0",
          "model_name": "LayoutModel",
          "state": {
            "_model_module": "@jupyter-widgets/base",
            "_model_module_version": "1.2.0",
            "_model_name": "LayoutModel",
            "_view_count": null,
            "_view_module": "@jupyter-widgets/base",
            "_view_module_version": "1.2.0",
            "_view_name": "LayoutView",
            "align_content": null,
            "align_items": null,
            "align_self": null,
            "border": null,
            "bottom": null,
            "display": null,
            "flex": null,
            "flex_flow": null,
            "grid_area": null,
            "grid_auto_columns": null,
            "grid_auto_flow": null,
            "grid_auto_rows": null,
            "grid_column": null,
            "grid_gap": null,
            "grid_row": null,
            "grid_template_areas": null,
            "grid_template_columns": null,
            "grid_template_rows": null,
            "height": null,
            "justify_content": null,
            "justify_items": null,
            "left": null,
            "margin": null,
            "max_height": null,
            "max_width": null,
            "min_height": null,
            "min_width": null,
            "object_fit": null,
            "object_position": null,
            "order": null,
            "overflow": null,
            "overflow_x": null,
            "overflow_y": null,
            "padding": null,
            "right": null,
            "top": null,
            "visibility": null,
            "width": null
          }
        },
        "e732502f05e34c3a95df483fdd3c7561": {
          "model_module": "@jupyter-widgets/controls",
          "model_module_version": "1.5.0",
          "model_name": "LabelModel",
          "state": {
            "_dom_classes": [],
            "_model_module": "@jupyter-widgets/controls",
            "_model_module_version": "1.5.0",
            "_model_name": "LabelModel",
            "_view_count": null,
            "_view_module": "@jupyter-widgets/controls",
            "_view_module_version": "1.5.0",
            "_view_name": "LabelView",
            "description": "",
            "description_tooltip": null,
            "layout": "IPY_MODEL_d8bb71ac12bb485ca00d29deb46ce5c7",
            "placeholder": "​",
            "style": "IPY_MODEL_298b56cb81864b5facc76a1588f270f8",
            "value": "Login successful"
          }
        },
        "e8fc39b11e224d2ebbf1c81830f2a3cf": {
          "model_module": "@jupyter-widgets/controls",
          "model_module_version": "1.5.0",
          "model_name": "DescriptionStyleModel",
          "state": {
            "_model_module": "@jupyter-widgets/controls",
            "_model_module_version": "1.5.0",
            "_model_name": "DescriptionStyleModel",
            "_view_count": null,
            "_view_module": "@jupyter-widgets/base",
            "_view_module_version": "1.2.0",
            "_view_name": "StyleView",
            "description_width": ""
          }
        },
        "ea5d8f0d4dfb461b8c22877aaf654cc6": {
          "model_module": "@jupyter-widgets/controls",
          "model_module_version": "1.5.0",
          "model_name": "HTMLModel",
          "state": {
            "_dom_classes": [],
            "_model_module": "@jupyter-widgets/controls",
            "_model_module_version": "1.5.0",
            "_model_name": "HTMLModel",
            "_view_count": null,
            "_view_module": "@jupyter-widgets/controls",
            "_view_module_version": "1.5.0",
            "_view_name": "HTMLView",
            "description": "",
            "description_tooltip": null,
            "layout": "IPY_MODEL_6067553c1f7c4fe09645126356d2d642",
            "placeholder": "​",
            "style": "IPY_MODEL_1d43690ce4f040a6beaf9691f355e211",
            "value": " 498M/498M [00:47&lt;00:00, 9.48MB/s]"
          }
        },
        "f172871000dc422aa8a9431011eb624f": {
          "model_module": "@jupyter-widgets/base",
          "model_module_version": "1.2.0",
          "model_name": "LayoutModel",
          "state": {
            "_model_module": "@jupyter-widgets/base",
            "_model_module_version": "1.2.0",
            "_model_name": "LayoutModel",
            "_view_count": null,
            "_view_module": "@jupyter-widgets/base",
            "_view_module_version": "1.2.0",
            "_view_name": "LayoutView",
            "align_content": null,
            "align_items": null,
            "align_self": null,
            "border": null,
            "bottom": null,
            "display": null,
            "flex": null,
            "flex_flow": null,
            "grid_area": null,
            "grid_auto_columns": null,
            "grid_auto_flow": null,
            "grid_auto_rows": null,
            "grid_column": null,
            "grid_gap": null,
            "grid_row": null,
            "grid_template_areas": null,
            "grid_template_columns": null,
            "grid_template_rows": null,
            "height": null,
            "justify_content": null,
            "justify_items": null,
            "left": null,
            "margin": null,
            "max_height": null,
            "max_width": null,
            "min_height": null,
            "min_width": null,
            "object_fit": null,
            "object_position": null,
            "order": null,
            "overflow": null,
            "overflow_x": null,
            "overflow_y": null,
            "padding": null,
            "right": null,
            "top": null,
            "visibility": null,
            "width": null
          }
        },
        "ffb4638bb29242d08a24c1018948561c": {
          "model_module": "@jupyter-widgets/controls",
          "model_module_version": "1.5.0",
          "model_name": "DescriptionStyleModel",
          "state": {
            "_model_module": "@jupyter-widgets/controls",
            "_model_module_version": "1.5.0",
            "_model_name": "DescriptionStyleModel",
            "_view_count": null,
            "_view_module": "@jupyter-widgets/base",
            "_view_module_version": "1.2.0",
            "_view_name": "StyleView",
            "description_width": ""
          }
        }
      }
    }
  },
  "nbformat": 4,
  "nbformat_minor": 0
}
